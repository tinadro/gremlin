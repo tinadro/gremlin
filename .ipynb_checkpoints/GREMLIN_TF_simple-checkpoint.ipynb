{
 "cells": [
  {
   "cell_type": "markdown",
   "metadata": {
    "colab_type": "text",
    "id": "3SHD25hwV_FA"
   },
   "source": [
    "## GREMLIN_simple\n",
    "\n",
    "This is a bare minimum version of GREMLIN (no gap removal, etc), intended for educational/demo purposes.  For the full version see [GREMLIN_TF_v2.1](https://colab.research.google.com/github/sokrypton/GREMLIN_CPP/blob/master/GREMLIN_TF.ipynb) "
   ]
  },
  {
   "cell_type": "code",
   "execution_count": 2,
   "metadata": {
    "colab": {},
    "colab_type": "code",
    "collapsed": true,
    "id": "dyhXMSv5HbpK"
   },
   "outputs": [],
   "source": [
    "# ------------------------------------------------------------\n",
    "# \"THE BEERWARE LICENSE\" (Revision 42):\n",
    "# <so@g.harvard.edu> and <pkk382@g.harvard.edu> wrote this code.\n",
    "# As long as you retain this notice, you can do whatever you want\n",
    "# with this stuff. If we meet someday, and you think this stuff\n",
    "# is worth it, you can buy us a beer in return.\n",
    "# --Sergey Ovchinnikov and Peter Koo\n",
    "# ------------------------------------------------------------"
   ]
  },
  {
   "cell_type": "markdown",
   "metadata": {
    "colab_type": "text",
    "id": "ZdGBxCYlURSw"
   },
   "source": [
    "## Load some libraries"
   ]
  },
  {
   "cell_type": "code",
   "execution_count": 3,
   "metadata": {
    "colab": {},
    "colab_type": "code",
    "collapsed": true,
    "id": "aJcHKRLQQAS4"
   },
   "outputs": [],
   "source": [
    "import numpy as np\n",
    "import tensorflow as tf\n",
    "import matplotlib.pylab as plt"
   ]
  },
  {
   "cell_type": "markdown",
   "metadata": {
    "colab_type": "text",
    "id": "ijbQXxzlYKAk"
   },
   "source": [
    "## Convert FASTA to MSA np.array()"
   ]
  },
  {
   "cell_type": "code",
   "execution_count": 4,
   "metadata": {
    "colab": {},
    "colab_type": "code",
    "collapsed": true,
    "id": "wU8Gzh1FQEZl"
   },
   "outputs": [],
   "source": [
    "def parse_fasta(filename):\n",
    "  '''function to parse fasta file'''\n",
    "  header = []\n",
    "  sequence = []\n",
    "  lines = open(filename, \"r\")\n",
    "  for line in lines:\n",
    "    line = line.rstrip()\n",
    "    if line[0] == \">\":\n",
    "      header.append(line[1:])\n",
    "      sequence.append([])\n",
    "    else:\n",
    "      sequence[-1].append(line)\n",
    "  lines.close()\n",
    "  sequence = [''.join(seq) for seq in sequence]\n",
    "  return np.array(header), np.array(sequence)\n",
    "  \n",
    "def mk_msa(seqs):\n",
    "  '''one hot encode msa'''\n",
    "  \n",
    "  ################\n",
    "  alphabet = \"ARNDCQEGHILKMFPSTWYV-\"\n",
    "  states = len(alphabet)\n",
    "  a2n = {}\n",
    "  for a,n in zip(alphabet,range(states)):\n",
    "    a2n[a] = n\n",
    "\n",
    "  def aa2num(aa):\n",
    "    '''convert aa into num'''\n",
    "    if aa in a2n: return a2n[aa]\n",
    "    else: return a2n['-']\n",
    "  ################\n",
    "  \n",
    "  msa = []\n",
    "  for seq in seqs:\n",
    "    msa.append([aa2num(aa) for aa in seq])\n",
    "  msa_ori = np.array(msa)\n",
    "  return msa_ori, tf.keras.utils.to_categorical(msa_ori,states)"
   ]
  },
  {
   "cell_type": "markdown",
   "metadata": {
    "colab_type": "text",
    "id": "z8j_kpFSUeFT"
   },
   "source": [
    "## load example"
   ]
  },
  {
   "cell_type": "code",
   "execution_count": 0,
   "metadata": {
    "colab": {},
    "colab_type": "code",
    "collapsed": true,
    "id": "Nn5oow4zP9ht"
   },
   "outputs": [],
   "source": [
    "!wget -q -nc https://gremlin2.bakerlab.org/db/PDB_EXP/fasta/4FAZA.fas"
   ]
  },
  {
   "cell_type": "code",
   "execution_count": 5,
   "metadata": {
    "colab": {
     "base_uri": "https://localhost:8080/",
     "height": 51
    },
    "colab_type": "code",
    "collapsed": false,
    "id": "ipoWnWOCQryY",
    "outputId": "af8f05e6-604c-4212-db2b-519706e98ce7"
   },
   "outputs": [
    {
     "ename": "ValueError",
     "evalue": "setting an array element with a sequence.",
     "output_type": "error",
     "traceback": [
      "\u001b[1;31m---------------------------------------------------------------------------\u001b[0m",
      "\u001b[1;31mValueError\u001b[0m                                Traceback (most recent call last)",
      "\u001b[1;32m<ipython-input-5-0af7ce91b724>\u001b[0m in \u001b[0;36m<module>\u001b[1;34m()\u001b[0m\n\u001b[0;32m      1\u001b[0m \u001b[0mnames\u001b[0m\u001b[1;33m,\u001b[0m\u001b[0mseqs\u001b[0m \u001b[1;33m=\u001b[0m \u001b[0mparse_fasta\u001b[0m\u001b[1;33m(\u001b[0m\u001b[1;34m\"PflA-protein-nr.mfa\"\u001b[0m\u001b[1;33m)\u001b[0m\u001b[1;33m\u001b[0m\u001b[0m\n\u001b[1;32m----> 2\u001b[1;33m \u001b[0mmsa_ori\u001b[0m\u001b[1;33m,\u001b[0m \u001b[0mmsa\u001b[0m \u001b[1;33m=\u001b[0m \u001b[0mmk_msa\u001b[0m\u001b[1;33m(\u001b[0m\u001b[0mseqs\u001b[0m\u001b[1;33m)\u001b[0m\u001b[1;33m\u001b[0m\u001b[0m\n\u001b[0m\u001b[0;32m      3\u001b[0m \u001b[1;33m\u001b[0m\u001b[0m\n\u001b[0;32m      4\u001b[0m \u001b[0mprint\u001b[0m\u001b[1;33m(\u001b[0m\u001b[0mmsa_ori\u001b[0m\u001b[1;33m.\u001b[0m\u001b[0mshape\u001b[0m\u001b[1;33m)\u001b[0m\u001b[1;33m\u001b[0m\u001b[0m\n\u001b[0;32m      5\u001b[0m \u001b[0mprint\u001b[0m\u001b[1;33m(\u001b[0m\u001b[0mmsa\u001b[0m\u001b[1;33m.\u001b[0m\u001b[0mshape\u001b[0m\u001b[1;33m)\u001b[0m\u001b[1;33m\u001b[0m\u001b[0m\n",
      "\u001b[1;32m<ipython-input-4-957e04e045c6>\u001b[0m in \u001b[0;36mmk_msa\u001b[1;34m(seqs)\u001b[0m\n\u001b[0;32m     35\u001b[0m     \u001b[0mmsa\u001b[0m\u001b[1;33m.\u001b[0m\u001b[0mappend\u001b[0m\u001b[1;33m(\u001b[0m\u001b[1;33m[\u001b[0m\u001b[0maa2num\u001b[0m\u001b[1;33m(\u001b[0m\u001b[0maa\u001b[0m\u001b[1;33m)\u001b[0m \u001b[1;32mfor\u001b[0m \u001b[0maa\u001b[0m \u001b[1;32min\u001b[0m \u001b[0mseq\u001b[0m\u001b[1;33m]\u001b[0m\u001b[1;33m)\u001b[0m\u001b[1;33m\u001b[0m\u001b[0m\n\u001b[0;32m     36\u001b[0m   \u001b[0mmsa_ori\u001b[0m \u001b[1;33m=\u001b[0m \u001b[0mnp\u001b[0m\u001b[1;33m.\u001b[0m\u001b[0marray\u001b[0m\u001b[1;33m(\u001b[0m\u001b[0mmsa\u001b[0m\u001b[1;33m)\u001b[0m\u001b[1;33m\u001b[0m\u001b[0m\n\u001b[1;32m---> 37\u001b[1;33m   \u001b[1;32mreturn\u001b[0m \u001b[0mmsa_ori\u001b[0m\u001b[1;33m,\u001b[0m \u001b[0mtf\u001b[0m\u001b[1;33m.\u001b[0m\u001b[0mkeras\u001b[0m\u001b[1;33m.\u001b[0m\u001b[0mutils\u001b[0m\u001b[1;33m.\u001b[0m\u001b[0mto_categorical\u001b[0m\u001b[1;33m(\u001b[0m\u001b[0mmsa_ori\u001b[0m\u001b[1;33m,\u001b[0m\u001b[0mstates\u001b[0m\u001b[1;33m)\u001b[0m\u001b[1;33m\u001b[0m\u001b[0m\n\u001b[0m",
      "\u001b[1;32m/project/soft/linux64/anaconda/Anaconda3-2.4.1-Linux-x86_64-tensorflow/lib/python3.5/site-packages/tensorflow/python/keras/utils/np_utils.py\u001b[0m in \u001b[0;36mto_categorical\u001b[1;34m(y, num_classes, dtype)\u001b[0m\n\u001b[0;32m     38\u001b[0m       \u001b[0mlast\u001b[0m\u001b[1;33m.\u001b[0m\u001b[1;33m\u001b[0m\u001b[0m\n\u001b[0;32m     39\u001b[0m   \"\"\"\n\u001b[1;32m---> 40\u001b[1;33m   \u001b[0my\u001b[0m \u001b[1;33m=\u001b[0m \u001b[0mnp\u001b[0m\u001b[1;33m.\u001b[0m\u001b[0marray\u001b[0m\u001b[1;33m(\u001b[0m\u001b[0my\u001b[0m\u001b[1;33m,\u001b[0m \u001b[0mdtype\u001b[0m\u001b[1;33m=\u001b[0m\u001b[1;34m'int'\u001b[0m\u001b[1;33m)\u001b[0m\u001b[1;33m\u001b[0m\u001b[0m\n\u001b[0m\u001b[0;32m     41\u001b[0m   \u001b[0minput_shape\u001b[0m \u001b[1;33m=\u001b[0m \u001b[0my\u001b[0m\u001b[1;33m.\u001b[0m\u001b[0mshape\u001b[0m\u001b[1;33m\u001b[0m\u001b[0m\n\u001b[0;32m     42\u001b[0m   \u001b[1;32mif\u001b[0m \u001b[0minput_shape\u001b[0m \u001b[1;32mand\u001b[0m \u001b[0minput_shape\u001b[0m\u001b[1;33m[\u001b[0m\u001b[1;33m-\u001b[0m\u001b[1;36m1\u001b[0m\u001b[1;33m]\u001b[0m \u001b[1;33m==\u001b[0m \u001b[1;36m1\u001b[0m \u001b[1;32mand\u001b[0m \u001b[0mlen\u001b[0m\u001b[1;33m(\u001b[0m\u001b[0minput_shape\u001b[0m\u001b[1;33m)\u001b[0m \u001b[1;33m>\u001b[0m \u001b[1;36m1\u001b[0m\u001b[1;33m:\u001b[0m\u001b[1;33m\u001b[0m\u001b[0m\n",
      "\u001b[1;31mValueError\u001b[0m: setting an array element with a sequence."
     ]
    }
   ],
   "source": [
    "names,seqs = parse_fasta(\"PflA-protein-nr.mfa\")\n",
    "msa_ori, msa = mk_msa(seqs)\n",
    "\n",
    "print(msa_ori.shape)\n",
    "print(msa.shape)"
   ]
  },
  {
   "cell_type": "markdown",
   "metadata": {
    "colab_type": "text",
    "id": "eNAbmgeOQ1UK"
   },
   "source": [
    "## GREMLIN\n",
    "GREMLIN is technically an \"autoencoder\" with a single dense (or fully-connected) layer between the input and output, with no hidden variables. GREMLIN tries to minimize the difference between the input and output.  The \"latent\" variables are the (w)eights/(b)ias of the dense layer.\n",
    "\n",
    "* loss = categorical_crossentropy(msa,  softmax(dot(msa, w) + b))\n",
    " - the math is identical to computing the \"pseudolikelihood\" as in GREMLIN()\n",
    " \n",
    "* msa\n",
    " - msa.shape = (batch, L x 21)\n",
    " - 21 =  (20 amino acids + 1 gap) categories\n",
    "* w = weight\n",
    " - w.shape = (L x 21, L x 21)\n",
    " -  aka two-body term of the MRF (aka co-evolution)\n",
    " -  note: the w matrix is symmetrized and the diagional is set to zero\n",
    "* b = bias \n",
    " - b.shape = (L x 21)\n",
    " - aka one-body-term of the MRF (aka conservation)"
   ]
  },
  {
   "cell_type": "code",
   "execution_count": 0,
   "metadata": {
    "colab": {},
    "colab_type": "code",
    "collapsed": true,
    "id": "bYFxhwGoQxyT"
   },
   "outputs": [],
   "source": [
    "def GREMLIN_simple(msa, opt_iter=100):\n",
    "  \n",
    "  # collecting some information about input msa\n",
    "  nrow = msa.shape[0] # number of sequences\n",
    "  ncol = msa.shape[1] # length of sequence\n",
    "  states = msa.shape[2] # number of states (or categories)\n",
    "\n",
    "  # kill any existing tensorflow graph\n",
    "  tf.reset_default_graph()\n",
    "\n",
    "  # setting up weights\n",
    "  b = tf.get_variable(\"b\", [ncol,states])\n",
    "  w = tf.get_variable(\"w\", [ncol,states,ncol,states], \n",
    "                      initializer=tf.initializers.zeros)\n",
    "\n",
    "  # symmetrize w\n",
    "  w = w * np.reshape(1-np.eye(ncol),(ncol,1,ncol,1))\n",
    "  w = w + tf.transpose(w,[2,3,0,1])\n",
    "  \n",
    "  # input\n",
    "  MSA = tf.placeholder(tf.float32,shape=(None,ncol,states),name=\"msa\")\n",
    "\n",
    "  # dense layer + softmax activation\n",
    "  MSA_pred = tf.nn.softmax(tf.tensordot(MSA,w,2)+b,-1)\n",
    "\n",
    "  # loss = categorical crossentropy (aka pseudo-likelihood)\n",
    "  loss = tf.reduce_sum(tf.keras.losses.categorical_crossentropy(MSA,MSA_pred))\n",
    "\n",
    "  # add L2 regularization\n",
    "  reg_b = 0.01 * tf.reduce_sum(tf.square(b))\n",
    "  reg_w = 0.01 * tf.reduce_sum(tf.square(w)) * 0.5 * (ncol-1) * (states-1)\n",
    "  loss = loss + reg_b + reg_w\n",
    "\n",
    "  # setup optimizer\n",
    "  learning_rate = 0.1 * np.log(nrow)/ncol\n",
    "  opt = tf.train.AdamOptimizer(learning_rate).minimize(loss)\n",
    "\n",
    "  # optimize!\n",
    "  with tf.Session() as sess:\n",
    "    sess.run(tf.global_variables_initializer())\n",
    "\n",
    "    # initialize bias\n",
    "    pc = 0.01 * np.log(nrow)\n",
    "    b_ini = np.log(np.sum(msa,0) + pc)\n",
    "    b_ini = b_ini - np.mean(b_ini,-1,keepdims=True)\n",
    "    sess.run(b.assign(b_ini))\n",
    "    \n",
    "    print(\"starting\",sess.run(loss,{MSA:msa}))\n",
    "\n",
    "    for i in range(opt_iter):\n",
    "      sess.run(opt,{MSA:msa})\n",
    "      if (i+1) % 10 == 0:\n",
    "        print((i+1),sess.run(loss,{MSA:msa}))\n",
    "\n",
    "    # save the weights (aka V and W parameters of the MRF)\n",
    "    V = sess.run(b)\n",
    "    W = sess.run(w)\n",
    "  return(V,W) "
   ]
  },
  {
   "cell_type": "code",
   "execution_count": 0,
   "metadata": {
    "colab": {
     "base_uri": "https://localhost:8080/",
     "height": 204
    },
    "colab_type": "code",
    "collapsed": false,
    "id": "BEnCFJg1XBaf",
    "outputId": "e7b2edf2-23e1-4770-83de-ec9941a9adce"
   },
   "outputs": [
    {
     "name": "stdout",
     "output_type": "stream",
     "text": [
      "starting 80407.195\n",
      "10 42247.95\n",
      "20 38261.23\n",
      "30 36949.69\n",
      "40 36504.938\n",
      "50 36318.098\n",
      "60 36232.797\n",
      "70 36190.547\n",
      "80 36166.117\n",
      "90 36149.684\n",
      "100 36137.15\n"
     ]
    }
   ],
   "source": [
    "%%time\n",
    "V,W = GREMLIN_simple(msa)"
   ]
  },
  {
   "cell_type": "markdown",
   "metadata": {
    "colab_type": "text",
    "id": "2VYRfajHSgv1"
   },
   "source": [
    "## get contacts"
   ]
  },
  {
   "cell_type": "code",
   "execution_count": 0,
   "metadata": {
    "colab": {},
    "colab_type": "code",
    "collapsed": true,
    "id": "mTw-NPuCSESQ"
   },
   "outputs": [],
   "source": [
    "def get_mtx(W):\n",
    "  # l2norm of 20x20 matrices (note: we ignore gaps)\n",
    "  raw = np.sqrt(np.sum(np.square(W[:,:-1,:,:-1]),(1,3)))\n",
    "\n",
    "  # apc (average product correction)\n",
    "  ap = np.sum(raw,0,keepdims=True)*np.sum(raw,1,keepdims=True)/np.sum(raw)\n",
    "  apc = raw - ap\n",
    "  np.fill_diagonal(apc,0)\n",
    "  \n",
    "  return(raw,apc)"
   ]
  },
  {
   "cell_type": "code",
   "execution_count": 0,
   "metadata": {
    "colab": {
     "base_uri": "https://localhost:8080/",
     "height": 317
    },
    "colab_type": "code",
    "collapsed": false,
    "id": "hjJrppRvS2pV",
    "outputId": "a707518a-5190-4e0a-ad62-465f26d662ba"
   },
   "outputs": [
    {
     "data": {
      "image/png": "[encoded data removed]",
      "text/plain": [
       "<Figure size 720x360 with 2 Axes>"
      ]
     },
     "metadata": {
      "tags": []
     },
     "output_type": "display_data"
    }
   ],
   "source": [
    "raw, apc = get_mtx(W)\n",
    "\n",
    "plt.figure(figsize=(10,5))\n",
    "plt.subplot(1,2,1)\n",
    "plt.imshow(raw)\n",
    "plt.grid(False)\n",
    "plt.title(\"raw\")\n",
    "plt.subplot(1,2,2)\n",
    "plt.imshow(apc)\n",
    "plt.grid(False)\n",
    "plt.title(\"apc\")\n",
    "plt.show()"
   ]
  },
  {
   "cell_type": "markdown",
   "metadata": {
    "colab_type": "text",
    "id": "zbdMaGvQFXXs"
   },
   "source": [
    "## EXTRA!\n",
    "Now lets try expand GREMLIN a bit, by adding sequence weights and ability to do stocastic gradient decent\n"
   ]
  },
  {
   "cell_type": "code",
   "execution_count": 0,
   "metadata": {
    "colab": {},
    "colab_type": "code",
    "collapsed": true,
    "id": "Ug0PcWP1J_EA"
   },
   "outputs": [],
   "source": [
    "from scipy.spatial.distance import pdist,squareform\n",
    "def get_eff(msa,eff_cutoff=0.8):\n",
    "  '''compute effective weight for each sequence'''\n",
    "  \n",
    "  # pairwise identity\n",
    "  msa_sm = 1.0 - squareform(pdist(msa,\"hamming\"))\n",
    "\n",
    "  # weight for each sequence\n",
    "  msa_w = np.zeros_like(msa_sm)\n",
    "  msa_w[np.where(msa_sm >= eff_cutoff)] = 1\n",
    "  msa_w = 1/np.sum(msa_w,-1)\n",
    "  \n",
    "  return msa_w"
   ]
  },
  {
   "cell_type": "code",
   "execution_count": 0,
   "metadata": {
    "colab": {},
    "colab_type": "code",
    "collapsed": true,
    "id": "wfUkxvytKC2V"
   },
   "outputs": [],
   "source": [
    "# compute weight for each sequence in the MSA\n",
    "msa_weights = get_eff(msa_ori)"
   ]
  },
  {
   "cell_type": "code",
   "execution_count": 0,
   "metadata": {
    "colab": {},
    "colab_type": "code",
    "collapsed": true,
    "id": "DocUKCF_Fq_k"
   },
   "outputs": [],
   "source": [
    "def GREMLIN_simple_v2(msa, msa_weights=None, opt_iter=100, batch_size=None):\n",
    "\n",
    "  # collecting some information about input msa\n",
    "  nrow = msa.shape[0] # number of sequences\n",
    "  ncol = msa.shape[1] # length of sequence\n",
    "  states = msa.shape[2] # number of states (or categories)\n",
    "  \n",
    "  if msa_weights is None:\n",
    "    msa_weights = np.ones(nrow)\n",
    "  \n",
    "  neff = np.sum(msa_weights) # number of \"effective\" sequences\n",
    "\n",
    "  # kill any existing tensorflow graph\n",
    "  tf.reset_default_graph()\n",
    "\n",
    "  # setting up weights\n",
    "  b = tf.get_variable(\"b\", [ncol,states])\n",
    "  w = tf.get_variable(\"w\", [ncol,states,ncol,states],\n",
    "                      initializer=tf.initializers.zeros)\n",
    "\n",
    "  # symmetrize w\n",
    "  w = w * np.reshape(1-np.eye(ncol),(ncol,1,ncol,1))\n",
    "  w = w + tf.transpose(w,[2,3,0,1])\n",
    "  \n",
    "  # input\n",
    "  MSA = tf.placeholder(tf.float32,shape=(None,ncol,states),name=\"msa\")\n",
    "  MSA_weights = tf.placeholder(tf.float32,shape=(None,),name=\"msa_weights\")\n",
    "  NEFF = tf.reduce_sum(MSA_weights)\n",
    "\n",
    "  # dense layer + softmax activation\n",
    "  MSA_pred = tf.nn.softmax(tf.tensordot(MSA,w,2)+b,-1)\n",
    "\n",
    "  # loss = categorical crossentropy (aka pseudo-likelihood)\n",
    "  loss = tf.reduce_sum(tf.keras.losses.categorical_crossentropy(MSA,MSA_pred),-1)\n",
    "  loss = tf.reduce_sum(loss * MSA_weights)/NEFF\n",
    "\n",
    "  # add L2 regularization\n",
    "  reg_b = 0.01 * tf.reduce_sum(tf.square(b))\n",
    "  reg_w = 0.01 * tf.reduce_sum(tf.square(w)) * 0.5 * (ncol-1) * (states-1)\n",
    "  loss = loss + (reg_b + reg_w)/neff\n",
    "\n",
    "  # setup optimizer\n",
    "  learning_rate = 0.1 * tf.log(NEFF)/ncol\n",
    "  opt = tf.train.AdamOptimizer(learning_rate).minimize(loss)\n",
    "  \n",
    "  # generate input/feed\n",
    "  def feed(feed_all=False):\n",
    "    if batch_size is None or feed_all:\n",
    "      return {MSA:msa, MSA_weights:msa_weights}\n",
    "    else:\n",
    "      idx = np.random.randint(0,nrow,size=batch_size)\n",
    "      return {MSA:msa[idx], MSA_weights:msa_weights[idx]}\n",
    "  \n",
    "  # optimize\n",
    "  with tf.Session() as sess:\n",
    "    \n",
    "    # initialize\n",
    "    sess.run(tf.global_variables_initializer())\n",
    "    \n",
    "    # initialize bias\n",
    "    pc = 0.01 * np.log(neff)\n",
    "    b_ini = np.log(np.sum(msa.T * msa_weights,-1).T + pc)\n",
    "    b_ini = b_ini - np.mean(b_ini,-1,keepdims=True)\n",
    "    sess.run(b.assign(b_ini))\n",
    "    \n",
    "    # compute loss across all data\n",
    "    get_loss = lambda: round(sess.run(loss,feed(feed_all=True)) * neff,2)\n",
    "    print(\"starting\", get_loss())\n",
    "\n",
    "    # iterate!\n",
    "    for i in range(opt_iter):\n",
    "      sess.run(opt,feed())\n",
    "      if (i+1) % int(opt_iter/10) == 0:\n",
    "        print(\"iter\",(i+1),get_loss())\n",
    " \n",
    "    # save the weights (aka V and W parameters of the MRF)\n",
    "    V = sess.run(b)\n",
    "    W = sess.run(w)\n",
    "      \n",
    "  # return the learned weights!\n",
    "  return V, W"
   ]
  },
  {
   "cell_type": "code",
   "execution_count": 0,
   "metadata": {
    "colab": {
     "base_uri": "https://localhost:8080/",
     "height": 238
    },
    "colab_type": "code",
    "collapsed": false,
    "id": "noqLtCNUGwM4",
    "outputId": "f560bd2a-2b5a-459e-b760-8300bb342326"
   },
   "outputs": [
    {
     "name": "stdout",
     "output_type": "stream",
     "text": [
      "starting 51135.13\n",
      "iter 10 36858.37\n",
      "iter 20 32684.37\n",
      "iter 30 30534.95\n",
      "iter 40 29644.05\n",
      "iter 50 29374.16\n",
      "iter 60 28983.53\n",
      "iter 70 29057.31\n",
      "iter 80 29046.91\n",
      "iter 90 29113.26\n",
      "iter 100 29199.75\n",
      "CPU times: user 1.44 s, sys: 160 ms, total: 1.6 s\n",
      "Wall time: 1.35 s\n"
     ]
    }
   ],
   "source": [
    "%%time\n",
    "V,W = GREMLIN_simple_v2(msa, msa_weights, opt_iter=100, batch_size=100)"
   ]
  },
  {
   "cell_type": "code",
   "execution_count": 0,
   "metadata": {
    "colab": {
     "base_uri": "https://localhost:8080/",
     "height": 317
    },
    "colab_type": "code",
    "collapsed": false,
    "id": "Ub9W3_S6OHhp",
    "outputId": "d1062ee2-8ecd-4dce-ada8-941d2b41cb04"
   },
   "outputs": [
    {
     "data": {
      "image/png": "[encoded data removed]",
      "text/plain": [
       "<Figure size 720x360 with 2 Axes>"
      ]
     },
     "metadata": {
      "tags": []
     },
     "output_type": "display_data"
    }
   ],
   "source": [
    "raw_v2, apc_v2 = get_mtx(W)\n",
    "\n",
    "plt.figure(figsize=(10,5))\n",
    "plt.subplot(1,2,1)\n",
    "plt.imshow(raw_v2)\n",
    "plt.grid(False)\n",
    "plt.title(\"raw_v2\")\n",
    "plt.subplot(1,2,2)\n",
    "plt.imshow(apc_v2)\n",
    "plt.grid(False)\n",
    "plt.title(\"apc_v2\")\n",
    "plt.show()"
   ]
  },
  {
   "cell_type": "code",
   "execution_count": 0,
   "metadata": {
    "colab": {},
    "colab_type": "code",
    "collapsed": true,
    "id": "guXUGGw5edWr"
   },
   "outputs": [],
   "source": []
  }
 ],
 "metadata": {
  "accelerator": "GPU",
  "colab": {
   "collapsed_sections": [],
   "name": "GREMLIN_TF_simple.ipynb",
   "provenance": [],
   "version": "0.3.2"
  },
  "kernelspec": {
   "display_name": "Python 3",
   "language": "python",
   "name": "python3"
  },
  "language_info": {
   "codemirror_mode": {
    "name": "ipython",
    "version": 3
   },
   "file_extension": ".py",
   "mimetype": "text/x-python",
   "name": "python",
   "nbconvert_exporter": "python",
   "pygments_lexer": "ipython3",
   "version": "3.5.1"
  }
 },
 "nbformat": 4,
 "nbformat_minor": 0
}
